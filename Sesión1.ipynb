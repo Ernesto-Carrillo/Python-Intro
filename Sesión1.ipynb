{
  "nbformat": 4,
  "nbformat_minor": 0,
  "metadata": {
    "colab": {
      "provenance": [],
      "authorship_tag": "ABX9TyPhZBkId/ka18XM5P0FLcA5",
      "include_colab_link": true
    },
    "kernelspec": {
      "name": "python3",
      "display_name": "Python 3"
    },
    "language_info": {
      "name": "python"
    }
  },
  "cells": [
    {
      "cell_type": "markdown",
      "metadata": {
        "id": "view-in-github",
        "colab_type": "text"
      },
      "source": [
        "<a href=\"https://colab.research.google.com/github/Ernesto-Carrillo/Python-Intro/blob/main/Sesi%C3%B3n1.ipynb\" target=\"_parent\"><img src=\"https://colab.research.google.com/assets/colab-badge.svg\" alt=\"Open In Colab\"/></a>"
      ]
    },
    {
      "cell_type": "code",
      "execution_count": null,
      "metadata": {
        "colab": {
          "base_uri": "https://localhost:8080/"
        },
        "id": "fRT-wsdGXM67",
        "outputId": "7c95b146-2f74-40e5-8c14-045c386d9c04"
      },
      "outputs": [
        {
          "output_type": "stream",
          "name": "stdout",
          "text": [
            "El resultado es 30\n"
          ]
        }
      ],
      "source": [
        "a=\"10\"\n",
        "b=20\n",
        "print(\"El resultado es\", int(a) + b)"
      ]
    }
  ]
}